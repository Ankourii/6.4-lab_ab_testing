{
 "cells": [
  {
   "cell_type": "markdown",
   "id": "angry-pearl",
   "metadata": {
    "toc": true
   },
   "source": [
    "<h1>Table of Contents<span class=\"tocSkip\"></span></h1>\n",
    "<div class=\"toc\"><ul class=\"toc-item\"><li><span><a href=\"#AB-Testing\" data-toc-modified-id=\"AB-Testing-1\"><span class=\"toc-item-num\">1&nbsp;&nbsp;</span>AB-Testing</a></span></li></ul></div>"
   ]
  },
  {
   "cell_type": "markdown",
   "id": "c92ba6e0",
   "metadata": {},
   "source": [
    "# AB-Testing\n",
    "\n",
    "![cats](images/cats.jpeg)\n",
    "\n",
    "\n",
    "Imaginad que somos los cientificos de datos de la empresa de videojuegos Tactile Entertainment. Los desarrolladores del juego Cookie Cats pretenden introducir un cambio en el juego para aumentar la retencion de los jugadores. En cierto nivel del juego los jugadores se encuentran una puerta que les obliga a esperar o a pagar la app. Actualmente la puerta se encuentra en nivel 30 y se pretende pasar al nivel 40, para comprobar la retencion a 1 y 7 dias. Antes de realizar el cambio definitivo en el juego se raliza un test AB.\n",
    "\n",
    "Los datos estan alojados en `data/cookie_cats.csv`. Nuestro grupo de control sera la version actual `gate_30` y el grupo de tratamiento sera la version `gate_40`. Debemos realizar el test para 1 dia de retencion `retention_1` y para 7 dias `retention_7`."
   ]
  },
  {
   "cell_type": "code",
   "execution_count": 30,
   "id": "ac3b2f52",
   "metadata": {},
   "outputs": [],
   "source": [
    "# librerias\n",
    "\n",
    "import pandas as pd\n",
    "import numpy as np\n",
    "from statsmodels.stats.proportion import proportions_ztest, proportion_confint\n",
    "from scipy.stats import norm, sem\n",
    "from scipy.stats import bernoulli, beta   \n",
    "import pylab as plt\n",
    "from bayes import *"
   ]
  },
  {
   "cell_type": "code",
   "execution_count": 97,
   "id": "7fe515c2",
   "metadata": {},
   "outputs": [
    {
     "data": {
      "text/html": [
       "<div>\n",
       "<style scoped>\n",
       "    .dataframe tbody tr th:only-of-type {\n",
       "        vertical-align: middle;\n",
       "    }\n",
       "\n",
       "    .dataframe tbody tr th {\n",
       "        vertical-align: top;\n",
       "    }\n",
       "\n",
       "    .dataframe thead th {\n",
       "        text-align: right;\n",
       "    }\n",
       "</style>\n",
       "<table border=\"1\" class=\"dataframe\">\n",
       "  <thead>\n",
       "    <tr style=\"text-align: right;\">\n",
       "      <th></th>\n",
       "      <th>userid</th>\n",
       "      <th>version</th>\n",
       "      <th>sum_gamerounds</th>\n",
       "      <th>retention_1</th>\n",
       "      <th>retention_7</th>\n",
       "    </tr>\n",
       "  </thead>\n",
       "  <tbody>\n",
       "    <tr>\n",
       "      <th>0</th>\n",
       "      <td>116</td>\n",
       "      <td>gate_30</td>\n",
       "      <td>3</td>\n",
       "      <td>False</td>\n",
       "      <td>False</td>\n",
       "    </tr>\n",
       "    <tr>\n",
       "      <th>1</th>\n",
       "      <td>337</td>\n",
       "      <td>gate_30</td>\n",
       "      <td>38</td>\n",
       "      <td>True</td>\n",
       "      <td>False</td>\n",
       "    </tr>\n",
       "    <tr>\n",
       "      <th>2</th>\n",
       "      <td>377</td>\n",
       "      <td>gate_40</td>\n",
       "      <td>165</td>\n",
       "      <td>True</td>\n",
       "      <td>False</td>\n",
       "    </tr>\n",
       "    <tr>\n",
       "      <th>3</th>\n",
       "      <td>483</td>\n",
       "      <td>gate_40</td>\n",
       "      <td>1</td>\n",
       "      <td>False</td>\n",
       "      <td>False</td>\n",
       "    </tr>\n",
       "    <tr>\n",
       "      <th>4</th>\n",
       "      <td>488</td>\n",
       "      <td>gate_40</td>\n",
       "      <td>179</td>\n",
       "      <td>True</td>\n",
       "      <td>True</td>\n",
       "    </tr>\n",
       "  </tbody>\n",
       "</table>\n",
       "</div>"
      ],
      "text/plain": [
       "   userid  version  sum_gamerounds  retention_1  retention_7\n",
       "0     116  gate_30               3        False        False\n",
       "1     337  gate_30              38         True        False\n",
       "2     377  gate_40             165         True        False\n",
       "3     483  gate_40               1        False        False\n",
       "4     488  gate_40             179         True         True"
      ]
     },
     "execution_count": 97,
     "metadata": {},
     "output_type": "execute_result"
    }
   ],
   "source": [
    "# datos\n",
    "\n",
    "data=pd.read_csv('data/cookie_cats.csv')\n",
    "data.head()"
   ]
  },
  {
   "cell_type": "code",
   "execution_count": null,
   "id": "b5949222",
   "metadata": {},
   "outputs": [],
   "source": [
    "control_group= data[data['version']=='gate_30']\n",
    "treat_group= data[data['version']=='gate_40']\n",
    "\n",
    "# filtrando cada grupo para cada test \n",
    "\n",
    "control_group_ret_1= control_group['retention_1']\n",
    "control_group_ret_7= control_group['retention_7']\n",
    "treat_group_ret_1 = treat_group['retention_1']\n",
    "treat_group_ret_7 = treat_group['retention_7']"
   ]
  },
  {
   "cell_type": "code",
   "execution_count": 96,
   "id": "b5fd5669",
   "metadata": {},
   "outputs": [
    {
     "data": {
      "text/plain": [
       "(False    24666\n",
       " True     20034\n",
       " Name: retention_1, dtype: int64,\n",
       " False    25370\n",
       " True     20119\n",
       " Name: retention_1, dtype: int64)"
      ]
     },
     "execution_count": 96,
     "metadata": {},
     "output_type": "execute_result"
    }
   ],
   "source": [
    "control_group_ret_1.value_counts(), treat_group_ret_1.value_counts()\n"
   ]
  },
  {
   "cell_type": "code",
   "execution_count": 113,
   "id": "d28d2b0c",
   "metadata": {},
   "outputs": [],
   "source": [
    "#empiezo con el test de la retention 1: \n",
    "\n",
    "α_control_1, β_control_1 = control_group_ret_1.value_counts()[-1], control_group_ret_1.value_counts()[0]\n",
    "\n",
    "α_treat_1, β_treat_1 = treat_group_ret_1.value_counts()[-1], treat_group_ret_1.value_counts()[0]\n",
    "\n",
    "\n",
    "beta_control_1 = beta(α_control_1, β_control_1)\n",
    "\n",
    "beta_treat_1 = beta(α_treat_1, β_treat_1)"
   ]
  },
  {
   "cell_type": "code",
   "execution_count": 121,
   "id": "b266199a",
   "metadata": {},
   "outputs": [],
   "source": [
    "def plot(betas, names, linf=0.43, lsup=0.46):\n",
    "    x=np.linspace(linf, lsup, 100)\n",
    "    for f, n in zip(betas, names):\n",
    "        y=f.pdf(x)\n",
    "        y_pico=pico(f.args[0], f.args[1])\n",
    "        y_var=f.var()\n",
    "        plt.plot(x, y, label='{}, retention: {:.6f} $\\pm$ {:.10f}'.format(n, y_pico, y_var))\n",
    "        plt.yticks([])\n",
    "    plt.legend()\n",
    "    plt.show();\n"
   ]
  },
  {
   "cell_type": "code",
   "execution_count": 122,
   "id": "4dc7538e",
   "metadata": {},
   "outputs": [
    {
     "data": {
      "image/png": "[encoded data removed]",
      "text/plain": [
       "<Figure size 640x480 with 1 Axes>"
      ]
     },
     "metadata": {},
     "output_type": "display_data"
    }
   ],
   "source": [
    "plot([beta_control_1, beta_treat_1], ['Control', 'Treatment'])"
   ]
  },
  {
   "cell_type": "code",
   "execution_count": 125,
   "id": "38f422cb",
   "metadata": {},
   "outputs": [
    {
     "data": {
      "text/plain": [
       "0.037203776277147216"
      ]
     },
     "execution_count": 125,
     "metadata": {},
     "output_type": "execute_result"
    }
   ],
   "source": [
    "# la probabilidad de retention 1 si cambiamos a gate_40\n",
    "\n",
    "1 - calc_prob(beta_control_1, beta_treat_1)\n"
   ]
  },
  {
   "cell_type": "markdown",
   "id": "6fa68b86",
   "metadata": {},
   "source": [
    "# Ahora para retention_7"
   ]
  },
  {
   "cell_type": "code",
   "execution_count": 117,
   "id": "a048a711",
   "metadata": {},
   "outputs": [],
   "source": [
    "# testeo para retention_7\n",
    "\n",
    "control_group_ret_7.value_counts(), treat_group_ret_7.value_counts()\n",
    "\n",
    "α_control_7, β_control_7 = control_group_ret_7.value_counts()[-1], control_group_ret_7.value_counts()[0]\n",
    "\n",
    "α_treat_7, β_treat_7 = treat_group_ret_7.value_counts()[-1], treat_group_ret_7.value_counts()[0]\n",
    "\n",
    "\n",
    "beta_control_7 = beta(α_control_7, β_control_7)\n",
    "\n",
    "beta_treat_7 = beta(α_treat_7, β_treat_7)"
   ]
  },
  {
   "cell_type": "code",
   "execution_count": 118,
   "id": "6bd3f3e1",
   "metadata": {},
   "outputs": [],
   "source": [
    "def plot_2(betas, names, linf=0.17, lsup=0.20):\n",
    "    x=np.linspace(linf, lsup, 100)\n",
    "    for f, n in zip(betas, names):\n",
    "        y=f.pdf(x)\n",
    "        y_pico=pico(f.args[0], f.args[1])\n",
    "        y_var=f.var()\n",
    "        plt.plot(x, y, label='{}, retention: {:.6f} $\\pm$ {:.10f}'.format(n, y_pico, y_var))\n",
    "        plt.yticks([])\n",
    "    plt.legend()\n",
    "    plt.show();"
   ]
  },
  {
   "cell_type": "code",
   "execution_count": 119,
   "id": "a26b0cd1",
   "metadata": {},
   "outputs": [
    {
     "data": {
      "image/png": "[encoded data removed]",
      "text/plain": [
       "<Figure size 640x480 with 1 Axes>"
      ]
     },
     "metadata": {},
     "output_type": "display_data"
    }
   ],
   "source": [
    "plot_2([beta_control_7, beta_treat_7], ['Control', 'Treatment'])"
   ]
  },
  {
   "cell_type": "code",
   "execution_count": 120,
   "id": "5c7c7c83",
   "metadata": {},
   "outputs": [
    {
     "data": {
      "text/plain": [
       "0.0007771582944278155"
      ]
     },
     "execution_count": 120,
     "metadata": {},
     "output_type": "execute_result"
    }
   ],
   "source": [
    "# la probabilidad de retention 7 si cambiamos a gate_40\n",
    "\n",
    "1- calc_prob(beta_control, beta_treat)"
   ]
  },
  {
   "cell_type": "markdown",
   "id": "49bfe34d",
   "metadata": {},
   "source": [
    "# conclusiones\n",
    "Si cambiamos a gate_40 tenemos un 0.037 de probabilidad de retention 1 y un 0.0007 de probabilidad de retention 7. Las retenciones son mejores si nos quedamos con gate_30."
   ]
  }
 ],
 "metadata": {
  "finalized": {
   "timestamp": 1642857010293,
   "trusted": true
  },
  "kernelspec": {
   "display_name": "Python 3 (ipykernel)",
   "language": "python",
   "name": "python3"
  },
  "language_info": {
   "codemirror_mode": {
    "name": "ipython",
    "version": 3
   },
   "file_extension": ".py",
   "mimetype": "text/x-python",
   "name": "python",
   "nbconvert_exporter": "python",
   "pygments_lexer": "ipython3",
   "version": "3.11.4"
  },
  "toc": {
   "base_numbering": 1,
   "nav_menu": {},
   "number_sections": true,
   "sideBar": true,
   "skip_h1_title": false,
   "title_cell": "Table of Contents",
   "title_sidebar": "Contents",
   "toc_cell": true,
   "toc_position": {},
   "toc_section_display": true,
   "toc_window_display": false
  },
  "varInspector": {
   "cols": {
    "lenName": 16,
    "lenType": 16,
    "lenVar": 40
   },
   "kernels_config": {
    "python": {
     "delete_cmd_postfix": "",
     "delete_cmd_prefix": "del ",
     "library": "var_list.py",
     "varRefreshCmd": "print(var_dic_list())"
    },
    "r": {
     "delete_cmd_postfix": ") ",
     "delete_cmd_prefix": "rm(",
     "library": "var_list.r",
     "varRefreshCmd": "cat(var_dic_list()) "
    }
   },
   "types_to_exclude": [
    "module",
    "function",
    "builtin_function_or_method",
    "instance",
    "_Feature"
   ],
   "window_display": false
  }
 },
 "nbformat": 4,
 "nbformat_minor": 5
}
